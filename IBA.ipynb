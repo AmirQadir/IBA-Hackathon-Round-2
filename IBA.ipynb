{
 "cells": [
  {
   "cell_type": "code",
   "execution_count": 1,
   "metadata": {},
   "outputs": [],
   "source": [
    "import numpy as np\n",
    "import pandas as pd\n",
    "import matplotlib.pyplot as plt\n",
    "import sklearn\n",
    "from sklearn.ensemble import RandomForestRegressor\n",
    "from sklearn.ensemble import RandomForestClassifier\n",
    "from sklearn.model_selection import train_test_split\n",
    "from sklearn.preprocessing import StandardScaler\n",
    "from sklearn import metrics\n",
    "\n"
   ]
  },
  {
   "cell_type": "code",
   "execution_count": 2,
   "metadata": {},
   "outputs": [],
   "source": [
    "data = pd.read_csv('training.csv')"
   ]
  },
  {
   "cell_type": "code",
   "execution_count": 3,
   "metadata": {},
   "outputs": [
    {
     "data": {
      "text/html": [
       "<div>\n",
       "<style scoped>\n",
       "    .dataframe tbody tr th:only-of-type {\n",
       "        vertical-align: middle;\n",
       "    }\n",
       "\n",
       "    .dataframe tbody tr th {\n",
       "        vertical-align: top;\n",
       "    }\n",
       "\n",
       "    .dataframe thead th {\n",
       "        text-align: right;\n",
       "    }\n",
       "</style>\n",
       "<table border=\"1\" class=\"dataframe\">\n",
       "  <thead>\n",
       "    <tr style=\"text-align: right;\">\n",
       "      <th></th>\n",
       "      <th>Row_ID</th>\n",
       "      <th>Financial_Year</th>\n",
       "      <th>Sequence_1</th>\n",
       "      <th>Sequence_2</th>\n",
       "      <th>Donor_Age</th>\n",
       "      <th>Blood_Group_Code</th>\n",
       "      <th>Donor_Weight</th>\n",
       "      <th>Donor_Temperature</th>\n",
       "      <th>Donor_Pulse</th>\n",
       "      <th>Donor_Hemoglobin</th>\n",
       "      <th>Test_1</th>\n",
       "      <th>Test_2</th>\n",
       "      <th>Y</th>\n",
       "    </tr>\n",
       "  </thead>\n",
       "  <tbody>\n",
       "    <tr>\n",
       "      <th>count</th>\n",
       "      <td>164599.000000</td>\n",
       "      <td>164599.000000</td>\n",
       "      <td>164599.000000</td>\n",
       "      <td>164599.000000</td>\n",
       "      <td>152553.000000</td>\n",
       "      <td>164242.000000</td>\n",
       "      <td>140303.000000</td>\n",
       "      <td>140300.000000</td>\n",
       "      <td>140300.000000</td>\n",
       "      <td>140300.000000</td>\n",
       "      <td>164542.000000</td>\n",
       "      <td>164575.000000</td>\n",
       "      <td>164599.000000</td>\n",
       "    </tr>\n",
       "    <tr>\n",
       "      <th>mean</th>\n",
       "      <td>109667.071556</td>\n",
       "      <td>15.871755</td>\n",
       "      <td>34502.461437</td>\n",
       "      <td>17685.259625</td>\n",
       "      <td>29.348493</td>\n",
       "      <td>3.598276</td>\n",
       "      <td>73.724061</td>\n",
       "      <td>38.045429</td>\n",
       "      <td>74.586521</td>\n",
       "      <td>13.332521</td>\n",
       "      <td>0.257067</td>\n",
       "      <td>7.350826</td>\n",
       "      <td>0.017369</td>\n",
       "    </tr>\n",
       "    <tr>\n",
       "      <th>std</th>\n",
       "      <td>63365.345992</td>\n",
       "      <td>1.417770</td>\n",
       "      <td>34184.696957</td>\n",
       "      <td>11653.985460</td>\n",
       "      <td>18.193065</td>\n",
       "      <td>1.873129</td>\n",
       "      <td>24.382463</td>\n",
       "      <td>19.826230</td>\n",
       "      <td>36.559348</td>\n",
       "      <td>7.720151</td>\n",
       "      <td>4.793943</td>\n",
       "      <td>159.703891</td>\n",
       "      <td>0.130644</td>\n",
       "    </tr>\n",
       "    <tr>\n",
       "      <th>min</th>\n",
       "      <td>0.000000</td>\n",
       "      <td>14.000000</td>\n",
       "      <td>346.000000</td>\n",
       "      <td>1.000000</td>\n",
       "      <td>-29.000000</td>\n",
       "      <td>0.000000</td>\n",
       "      <td>-80.000000</td>\n",
       "      <td>0.300000</td>\n",
       "      <td>0.720000</td>\n",
       "      <td>0.130000</td>\n",
       "      <td>0.000000</td>\n",
       "      <td>0.001000</td>\n",
       "      <td>0.000000</td>\n",
       "    </tr>\n",
       "    <tr>\n",
       "      <th>25%</th>\n",
       "      <td>54799.500000</td>\n",
       "      <td>15.000000</td>\n",
       "      <td>11308.000000</td>\n",
       "      <td>7541.000000</td>\n",
       "      <td>23.000000</td>\n",
       "      <td>3.000000</td>\n",
       "      <td>65.000000</td>\n",
       "      <td>37.000000</td>\n",
       "      <td>72.000000</td>\n",
       "      <td>13.000000</td>\n",
       "      <td>0.123000</td>\n",
       "      <td>0.183000</td>\n",
       "      <td>0.000000</td>\n",
       "    </tr>\n",
       "    <tr>\n",
       "      <th>50%</th>\n",
       "      <td>109632.000000</td>\n",
       "      <td>16.000000</td>\n",
       "      <td>22551.000000</td>\n",
       "      <td>16336.000000</td>\n",
       "      <td>28.000000</td>\n",
       "      <td>3.000000</td>\n",
       "      <td>72.000000</td>\n",
       "      <td>37.000000</td>\n",
       "      <td>72.000000</td>\n",
       "      <td>13.000000</td>\n",
       "      <td>0.183000</td>\n",
       "      <td>0.221000</td>\n",
       "      <td>0.000000</td>\n",
       "    </tr>\n",
       "    <tr>\n",
       "      <th>75%</th>\n",
       "      <td>164499.500000</td>\n",
       "      <td>17.000000</td>\n",
       "      <td>35614.500000</td>\n",
       "      <td>27414.500000</td>\n",
       "      <td>33.000000</td>\n",
       "      <td>5.000000</td>\n",
       "      <td>80.000000</td>\n",
       "      <td>37.000000</td>\n",
       "      <td>72.000000</td>\n",
       "      <td>13.000000</td>\n",
       "      <td>0.294000</td>\n",
       "      <td>0.263000</td>\n",
       "      <td>0.000000</td>\n",
       "    </tr>\n",
       "    <tr>\n",
       "      <th>max</th>\n",
       "      <td>219465.000000</td>\n",
       "      <td>18.000000</td>\n",
       "      <td>122095.000000</td>\n",
       "      <td>44317.000000</td>\n",
       "      <td>2002.340000</td>\n",
       "      <td>17.000000</td>\n",
       "      <td>980.000000</td>\n",
       "      <td>999.000000</td>\n",
       "      <td>872.000000</td>\n",
       "      <td>712.000000</td>\n",
       "      <td>976.302000</td>\n",
       "      <td>7081.233000</td>\n",
       "      <td>1.000000</td>\n",
       "    </tr>\n",
       "  </tbody>\n",
       "</table>\n",
       "</div>"
      ],
      "text/plain": [
       "              Row_ID  Financial_Year     Sequence_1     Sequence_2  \\\n",
       "count  164599.000000   164599.000000  164599.000000  164599.000000   \n",
       "mean   109667.071556       15.871755   34502.461437   17685.259625   \n",
       "std     63365.345992        1.417770   34184.696957   11653.985460   \n",
       "min         0.000000       14.000000     346.000000       1.000000   \n",
       "25%     54799.500000       15.000000   11308.000000    7541.000000   \n",
       "50%    109632.000000       16.000000   22551.000000   16336.000000   \n",
       "75%    164499.500000       17.000000   35614.500000   27414.500000   \n",
       "max    219465.000000       18.000000  122095.000000   44317.000000   \n",
       "\n",
       "           Donor_Age  Blood_Group_Code   Donor_Weight  Donor_Temperature  \\\n",
       "count  152553.000000     164242.000000  140303.000000      140300.000000   \n",
       "mean       29.348493          3.598276      73.724061          38.045429   \n",
       "std        18.193065          1.873129      24.382463          19.826230   \n",
       "min       -29.000000          0.000000     -80.000000           0.300000   \n",
       "25%        23.000000          3.000000      65.000000          37.000000   \n",
       "50%        28.000000          3.000000      72.000000          37.000000   \n",
       "75%        33.000000          5.000000      80.000000          37.000000   \n",
       "max      2002.340000         17.000000     980.000000         999.000000   \n",
       "\n",
       "         Donor_Pulse  Donor_Hemoglobin         Test_1         Test_2  \\\n",
       "count  140300.000000     140300.000000  164542.000000  164575.000000   \n",
       "mean       74.586521         13.332521       0.257067       7.350826   \n",
       "std        36.559348          7.720151       4.793943     159.703891   \n",
       "min         0.720000          0.130000       0.000000       0.001000   \n",
       "25%        72.000000         13.000000       0.123000       0.183000   \n",
       "50%        72.000000         13.000000       0.183000       0.221000   \n",
       "75%        72.000000         13.000000       0.294000       0.263000   \n",
       "max       872.000000        712.000000     976.302000    7081.233000   \n",
       "\n",
       "                   Y  \n",
       "count  164599.000000  \n",
       "mean        0.017369  \n",
       "std         0.130644  \n",
       "min         0.000000  \n",
       "25%         0.000000  \n",
       "50%         0.000000  \n",
       "75%         0.000000  \n",
       "max         1.000000  "
      ]
     },
     "execution_count": 3,
     "metadata": {},
     "output_type": "execute_result"
    }
   ],
   "source": [
    "data.describe()"
   ]
  },
  {
   "cell_type": "code",
   "execution_count": 4,
   "metadata": {},
   "outputs": [
    {
     "data": {
      "text/plain": [
       "Row_ID                      0\n",
       "Financial_Year              0\n",
       "Branch_Code                 0\n",
       "Sequence_1                  0\n",
       "Sequence_2                  0\n",
       "Donation_type               0\n",
       "Donor_Age               12046\n",
       "Donation_Date               0\n",
       "Gender                      8\n",
       "Blood_Group_Code          357\n",
       "Donor_Weight            24296\n",
       "Donor_Temperature       24299\n",
       "Donor_Pulse             24299\n",
       "Donor_Hemoglobin        24299\n",
       "Donor_Blood_Pressure    24300\n",
       "Test_1                     57\n",
       "Test_2                     24\n",
       "Test_3                      8\n",
       "Test_4                      8\n",
       "Y                           0\n",
       "dtype: int64"
      ]
     },
     "execution_count": 4,
     "metadata": {},
     "output_type": "execute_result"
    }
   ],
   "source": [
    "data.isna().sum()"
   ]
  },
  {
   "cell_type": "code",
   "execution_count": 5,
   "metadata": {},
   "outputs": [
    {
     "data": {
      "text/plain": [
       "164498"
      ]
     },
     "execution_count": 5,
     "metadata": {},
     "output_type": "execute_result"
    }
   ],
   "source": [
    "counter = 0\n",
    "for i in data['Gender']:\n",
    "    if (i == 'M'):\n",
    "        counter += 1\n",
    "counter\n"
   ]
  },
  {
   "cell_type": "code",
   "execution_count": 6,
   "metadata": {},
   "outputs": [],
   "source": [
    "no_of_females = data['Gender'].count() - counter"
   ]
  },
  {
   "cell_type": "code",
   "execution_count": 7,
   "metadata": {},
   "outputs": [
    {
     "data": {
      "text/plain": [
       "93"
      ]
     },
     "execution_count": 7,
     "metadata": {},
     "output_type": "execute_result"
    }
   ],
   "source": [
    "no_of_females"
   ]
  },
  {
   "cell_type": "code",
   "execution_count": 8,
   "metadata": {},
   "outputs": [
    {
     "data": {
      "text/html": [
       "<div>\n",
       "<style scoped>\n",
       "    .dataframe tbody tr th:only-of-type {\n",
       "        vertical-align: middle;\n",
       "    }\n",
       "\n",
       "    .dataframe tbody tr th {\n",
       "        vertical-align: top;\n",
       "    }\n",
       "\n",
       "    .dataframe thead th {\n",
       "        text-align: right;\n",
       "    }\n",
       "</style>\n",
       "<table border=\"1\" class=\"dataframe\">\n",
       "  <thead>\n",
       "    <tr style=\"text-align: right;\">\n",
       "      <th></th>\n",
       "      <th>Row_ID</th>\n",
       "      <th>Financial_Year</th>\n",
       "      <th>Branch_Code</th>\n",
       "      <th>Sequence_1</th>\n",
       "      <th>Sequence_2</th>\n",
       "      <th>Donation_type</th>\n",
       "      <th>Donor_Age</th>\n",
       "      <th>Donation_Date</th>\n",
       "      <th>Gender</th>\n",
       "      <th>Blood_Group_Code</th>\n",
       "      <th>Donor_Weight</th>\n",
       "      <th>Donor_Temperature</th>\n",
       "      <th>Donor_Pulse</th>\n",
       "      <th>Donor_Hemoglobin</th>\n",
       "      <th>Donor_Blood_Pressure</th>\n",
       "      <th>Test_1</th>\n",
       "      <th>Test_2</th>\n",
       "      <th>Test_3</th>\n",
       "      <th>Test_4</th>\n",
       "      <th>Y</th>\n",
       "    </tr>\n",
       "  </thead>\n",
       "  <tbody>\n",
       "  </tbody>\n",
       "</table>\n",
       "</div>"
      ],
      "text/plain": [
       "Empty DataFrame\n",
       "Columns: [Row_ID, Financial_Year, Branch_Code, Sequence_1, Sequence_2, Donation_type, Donor_Age, Donation_Date, Gender, Blood_Group_Code, Donor_Weight, Donor_Temperature, Donor_Pulse, Donor_Hemoglobin, Donor_Blood_Pressure, Test_1, Test_2, Test_3, Test_4, Y]\n",
       "Index: []"
      ]
     },
     "execution_count": 8,
     "metadata": {},
     "output_type": "execute_result"
    }
   ],
   "source": [
    "xyz = data[data['Donor_Age'] < 16]\n",
    "\n",
    "xyz[xyz['Gender'] == 'F']"
   ]
  },
  {
   "cell_type": "code",
   "execution_count": 9,
   "metadata": {},
   "outputs": [
    {
     "name": "stdout",
     "output_type": "stream",
     "text": [
      "[(2, 17.0), (5, 9.0), (9, 11.0), (23, 14.0), (28, 0.0), (1025, 8.0), (2512, 2.0), (3544, 6.0), (3614, 4.0), (13839, 7.0), (36787, 1.0), (49661, 5.0), (53193, 3.0)]\n"
     ]
    }
   ],
   "source": [
    "new_data = data[data['Blood_Group_Code'] >= 0]\n",
    "\n",
    "x = []\n",
    "\n",
    "for i in set(new_data['Blood_Group_Code']):\n",
    "    x.append(((new_data[new_data['Blood_Group_Code'] == i]['Blood_Group_Code'].count()), i))\n",
    "\n",
    "print(sorted(x))\n",
    "    "
   ]
  },
  {
   "cell_type": "code",
   "execution_count": null,
   "metadata": {},
   "outputs": [],
   "source": []
  },
  {
   "cell_type": "code",
   "execution_count": 38,
   "metadata": {},
   "outputs": [
    {
     "data": {
      "text/html": [
       "<div>\n",
       "<style scoped>\n",
       "    .dataframe tbody tr th:only-of-type {\n",
       "        vertical-align: middle;\n",
       "    }\n",
       "\n",
       "    .dataframe tbody tr th {\n",
       "        vertical-align: top;\n",
       "    }\n",
       "\n",
       "    .dataframe thead th {\n",
       "        text-align: right;\n",
       "    }\n",
       "</style>\n",
       "<table border=\"1\" class=\"dataframe\">\n",
       "  <thead>\n",
       "    <tr style=\"text-align: right;\">\n",
       "      <th></th>\n",
       "      <th>Row_ID</th>\n",
       "      <th>Financial_Year</th>\n",
       "      <th>Sequence_1</th>\n",
       "      <th>Sequence_2</th>\n",
       "      <th>Donor_Age</th>\n",
       "      <th>Blood_Group_Code</th>\n",
       "      <th>Donor_Weight</th>\n",
       "      <th>Donor_Temperature</th>\n",
       "      <th>Donor_Pulse</th>\n",
       "      <th>Donor_Hemoglobin</th>\n",
       "      <th>Test_1</th>\n",
       "      <th>Test_2</th>\n",
       "      <th>Y</th>\n",
       "    </tr>\n",
       "  </thead>\n",
       "  <tbody>\n",
       "    <tr>\n",
       "      <th>Row_ID</th>\n",
       "      <td>1.000000</td>\n",
       "      <td>0.685067</td>\n",
       "      <td>-0.639481</td>\n",
       "      <td>-0.161246</td>\n",
       "      <td>0.003095</td>\n",
       "      <td>-0.009206</td>\n",
       "      <td>-0.015210</td>\n",
       "      <td>-0.000494</td>\n",
       "      <td>-0.002203</td>\n",
       "      <td>-0.009219</td>\n",
       "      <td>-0.005981</td>\n",
       "      <td>-0.023986</td>\n",
       "      <td>-0.024422</td>\n",
       "    </tr>\n",
       "    <tr>\n",
       "      <th>Financial_Year</th>\n",
       "      <td>0.685067</td>\n",
       "      <td>1.000000</td>\n",
       "      <td>-0.584620</td>\n",
       "      <td>-0.062470</td>\n",
       "      <td>0.008485</td>\n",
       "      <td>0.003491</td>\n",
       "      <td>-0.016030</td>\n",
       "      <td>-0.000964</td>\n",
       "      <td>-0.002368</td>\n",
       "      <td>-0.010976</td>\n",
       "      <td>-0.006954</td>\n",
       "      <td>-0.018401</td>\n",
       "      <td>-0.001599</td>\n",
       "    </tr>\n",
       "    <tr>\n",
       "      <th>Sequence_1</th>\n",
       "      <td>-0.639481</td>\n",
       "      <td>-0.584620</td>\n",
       "      <td>1.000000</td>\n",
       "      <td>0.483375</td>\n",
       "      <td>-0.005459</td>\n",
       "      <td>0.001446</td>\n",
       "      <td>0.015175</td>\n",
       "      <td>0.014361</td>\n",
       "      <td>0.004386</td>\n",
       "      <td>0.010796</td>\n",
       "      <td>0.001686</td>\n",
       "      <td>0.038847</td>\n",
       "      <td>0.004086</td>\n",
       "    </tr>\n",
       "    <tr>\n",
       "      <th>Sequence_2</th>\n",
       "      <td>-0.161246</td>\n",
       "      <td>-0.062470</td>\n",
       "      <td>0.483375</td>\n",
       "      <td>1.000000</td>\n",
       "      <td>-0.004165</td>\n",
       "      <td>0.004435</td>\n",
       "      <td>0.006063</td>\n",
       "      <td>0.003052</td>\n",
       "      <td>0.001526</td>\n",
       "      <td>0.008619</td>\n",
       "      <td>-0.000344</td>\n",
       "      <td>-0.006442</td>\n",
       "      <td>0.011589</td>\n",
       "    </tr>\n",
       "    <tr>\n",
       "      <th>Donor_Age</th>\n",
       "      <td>0.003095</td>\n",
       "      <td>0.008485</td>\n",
       "      <td>-0.005459</td>\n",
       "      <td>-0.004165</td>\n",
       "      <td>1.000000</td>\n",
       "      <td>0.000891</td>\n",
       "      <td>0.113780</td>\n",
       "      <td>-0.000356</td>\n",
       "      <td>-0.000682</td>\n",
       "      <td>-0.001455</td>\n",
       "      <td>0.000941</td>\n",
       "      <td>-0.003574</td>\n",
       "      <td>0.024095</td>\n",
       "    </tr>\n",
       "    <tr>\n",
       "      <th>Blood_Group_Code</th>\n",
       "      <td>-0.009206</td>\n",
       "      <td>0.003491</td>\n",
       "      <td>0.001446</td>\n",
       "      <td>0.004435</td>\n",
       "      <td>0.000891</td>\n",
       "      <td>1.000000</td>\n",
       "      <td>-0.006016</td>\n",
       "      <td>0.000205</td>\n",
       "      <td>-0.001122</td>\n",
       "      <td>-0.000132</td>\n",
       "      <td>0.004617</td>\n",
       "      <td>-0.000858</td>\n",
       "      <td>-0.000232</td>\n",
       "    </tr>\n",
       "    <tr>\n",
       "      <th>Donor_Weight</th>\n",
       "      <td>-0.015210</td>\n",
       "      <td>-0.016030</td>\n",
       "      <td>0.015175</td>\n",
       "      <td>0.006063</td>\n",
       "      <td>0.113780</td>\n",
       "      <td>-0.006016</td>\n",
       "      <td>1.000000</td>\n",
       "      <td>-0.002914</td>\n",
       "      <td>0.003201</td>\n",
       "      <td>-0.002239</td>\n",
       "      <td>-0.000658</td>\n",
       "      <td>-0.006539</td>\n",
       "      <td>-0.007566</td>\n",
       "    </tr>\n",
       "    <tr>\n",
       "      <th>Donor_Temperature</th>\n",
       "      <td>-0.000494</td>\n",
       "      <td>-0.000964</td>\n",
       "      <td>0.014361</td>\n",
       "      <td>0.003052</td>\n",
       "      <td>-0.000356</td>\n",
       "      <td>0.000205</td>\n",
       "      <td>-0.002914</td>\n",
       "      <td>1.000000</td>\n",
       "      <td>-0.000723</td>\n",
       "      <td>0.010280</td>\n",
       "      <td>-0.000436</td>\n",
       "      <td>0.003839</td>\n",
       "      <td>-0.002204</td>\n",
       "    </tr>\n",
       "    <tr>\n",
       "      <th>Donor_Pulse</th>\n",
       "      <td>-0.002203</td>\n",
       "      <td>-0.002368</td>\n",
       "      <td>0.004386</td>\n",
       "      <td>0.001526</td>\n",
       "      <td>-0.000682</td>\n",
       "      <td>-0.001122</td>\n",
       "      <td>0.003201</td>\n",
       "      <td>-0.000723</td>\n",
       "      <td>1.000000</td>\n",
       "      <td>-0.000300</td>\n",
       "      <td>-0.000525</td>\n",
       "      <td>0.000015</td>\n",
       "      <td>0.002132</td>\n",
       "    </tr>\n",
       "    <tr>\n",
       "      <th>Donor_Hemoglobin</th>\n",
       "      <td>-0.009219</td>\n",
       "      <td>-0.010976</td>\n",
       "      <td>0.010796</td>\n",
       "      <td>0.008619</td>\n",
       "      <td>-0.001455</td>\n",
       "      <td>-0.000132</td>\n",
       "      <td>-0.002239</td>\n",
       "      <td>0.010280</td>\n",
       "      <td>-0.000300</td>\n",
       "      <td>1.000000</td>\n",
       "      <td>-0.000359</td>\n",
       "      <td>0.002012</td>\n",
       "      <td>0.000580</td>\n",
       "    </tr>\n",
       "    <tr>\n",
       "      <th>Test_1</th>\n",
       "      <td>-0.005981</td>\n",
       "      <td>-0.006954</td>\n",
       "      <td>0.001686</td>\n",
       "      <td>-0.000344</td>\n",
       "      <td>0.000941</td>\n",
       "      <td>0.004617</td>\n",
       "      <td>-0.000658</td>\n",
       "      <td>-0.000436</td>\n",
       "      <td>-0.000525</td>\n",
       "      <td>-0.000359</td>\n",
       "      <td>1.000000</td>\n",
       "      <td>-0.000619</td>\n",
       "      <td>0.003345</td>\n",
       "    </tr>\n",
       "    <tr>\n",
       "      <th>Test_2</th>\n",
       "      <td>-0.023986</td>\n",
       "      <td>-0.018401</td>\n",
       "      <td>0.038847</td>\n",
       "      <td>-0.006442</td>\n",
       "      <td>-0.003574</td>\n",
       "      <td>-0.000858</td>\n",
       "      <td>-0.006539</td>\n",
       "      <td>0.003839</td>\n",
       "      <td>0.000015</td>\n",
       "      <td>0.002012</td>\n",
       "      <td>-0.000619</td>\n",
       "      <td>1.000000</td>\n",
       "      <td>0.005707</td>\n",
       "    </tr>\n",
       "    <tr>\n",
       "      <th>Y</th>\n",
       "      <td>-0.024422</td>\n",
       "      <td>-0.001599</td>\n",
       "      <td>0.004086</td>\n",
       "      <td>0.011589</td>\n",
       "      <td>0.024095</td>\n",
       "      <td>-0.000232</td>\n",
       "      <td>-0.007566</td>\n",
       "      <td>-0.002204</td>\n",
       "      <td>0.002132</td>\n",
       "      <td>0.000580</td>\n",
       "      <td>0.003345</td>\n",
       "      <td>0.005707</td>\n",
       "      <td>1.000000</td>\n",
       "    </tr>\n",
       "  </tbody>\n",
       "</table>\n",
       "</div>"
      ],
      "text/plain": [
       "                     Row_ID  Financial_Year  Sequence_1  Sequence_2  \\\n",
       "Row_ID             1.000000        0.685067   -0.639481   -0.161246   \n",
       "Financial_Year     0.685067        1.000000   -0.584620   -0.062470   \n",
       "Sequence_1        -0.639481       -0.584620    1.000000    0.483375   \n",
       "Sequence_2        -0.161246       -0.062470    0.483375    1.000000   \n",
       "Donor_Age          0.003095        0.008485   -0.005459   -0.004165   \n",
       "Blood_Group_Code  -0.009206        0.003491    0.001446    0.004435   \n",
       "Donor_Weight      -0.015210       -0.016030    0.015175    0.006063   \n",
       "Donor_Temperature -0.000494       -0.000964    0.014361    0.003052   \n",
       "Donor_Pulse       -0.002203       -0.002368    0.004386    0.001526   \n",
       "Donor_Hemoglobin  -0.009219       -0.010976    0.010796    0.008619   \n",
       "Test_1            -0.005981       -0.006954    0.001686   -0.000344   \n",
       "Test_2            -0.023986       -0.018401    0.038847   -0.006442   \n",
       "Y                 -0.024422       -0.001599    0.004086    0.011589   \n",
       "\n",
       "                   Donor_Age  Blood_Group_Code  Donor_Weight  \\\n",
       "Row_ID              0.003095         -0.009206     -0.015210   \n",
       "Financial_Year      0.008485          0.003491     -0.016030   \n",
       "Sequence_1         -0.005459          0.001446      0.015175   \n",
       "Sequence_2         -0.004165          0.004435      0.006063   \n",
       "Donor_Age           1.000000          0.000891      0.113780   \n",
       "Blood_Group_Code    0.000891          1.000000     -0.006016   \n",
       "Donor_Weight        0.113780         -0.006016      1.000000   \n",
       "Donor_Temperature  -0.000356          0.000205     -0.002914   \n",
       "Donor_Pulse        -0.000682         -0.001122      0.003201   \n",
       "Donor_Hemoglobin   -0.001455         -0.000132     -0.002239   \n",
       "Test_1              0.000941          0.004617     -0.000658   \n",
       "Test_2             -0.003574         -0.000858     -0.006539   \n",
       "Y                   0.024095         -0.000232     -0.007566   \n",
       "\n",
       "                   Donor_Temperature  Donor_Pulse  Donor_Hemoglobin    Test_1  \\\n",
       "Row_ID                     -0.000494    -0.002203         -0.009219 -0.005981   \n",
       "Financial_Year             -0.000964    -0.002368         -0.010976 -0.006954   \n",
       "Sequence_1                  0.014361     0.004386          0.010796  0.001686   \n",
       "Sequence_2                  0.003052     0.001526          0.008619 -0.000344   \n",
       "Donor_Age                  -0.000356    -0.000682         -0.001455  0.000941   \n",
       "Blood_Group_Code            0.000205    -0.001122         -0.000132  0.004617   \n",
       "Donor_Weight               -0.002914     0.003201         -0.002239 -0.000658   \n",
       "Donor_Temperature           1.000000    -0.000723          0.010280 -0.000436   \n",
       "Donor_Pulse                -0.000723     1.000000         -0.000300 -0.000525   \n",
       "Donor_Hemoglobin            0.010280    -0.000300          1.000000 -0.000359   \n",
       "Test_1                     -0.000436    -0.000525         -0.000359  1.000000   \n",
       "Test_2                      0.003839     0.000015          0.002012 -0.000619   \n",
       "Y                          -0.002204     0.002132          0.000580  0.003345   \n",
       "\n",
       "                     Test_2         Y  \n",
       "Row_ID            -0.023986 -0.024422  \n",
       "Financial_Year    -0.018401 -0.001599  \n",
       "Sequence_1         0.038847  0.004086  \n",
       "Sequence_2        -0.006442  0.011589  \n",
       "Donor_Age         -0.003574  0.024095  \n",
       "Blood_Group_Code  -0.000858 -0.000232  \n",
       "Donor_Weight      -0.006539 -0.007566  \n",
       "Donor_Temperature  0.003839 -0.002204  \n",
       "Donor_Pulse        0.000015  0.002132  \n",
       "Donor_Hemoglobin   0.002012  0.000580  \n",
       "Test_1            -0.000619  0.003345  \n",
       "Test_2             1.000000  0.005707  \n",
       "Y                  0.005707  1.000000  "
      ]
     },
     "execution_count": 38,
     "metadata": {},
     "output_type": "execute_result"
    }
   ],
   "source": [
    "correlation = data.corr()\n",
    "correlation"
   ]
  },
  {
   "cell_type": "code",
   "execution_count": 11,
   "metadata": {},
   "outputs": [
    {
     "data": {
      "text/plain": [
       "Y                    1.000000\n",
       "Sequence_2           0.011542\n",
       "Donor_Age            0.009603\n",
       "Test_2               0.005672\n",
       "Sequence_1           0.004042\n",
       "Test_1               0.003336\n",
       "Donor_Pulse          0.002066\n",
       "Donor_Hemoglobin     0.000551\n",
       "Blood_Group_Code    -0.000380\n",
       "Financial_Year      -0.001520\n",
       "Donor_Temperature   -0.002219\n",
       "Donor_Weight        -0.007601\n",
       "Row_ID              -0.024365\n",
       "Name: Y, dtype: float64"
      ]
     },
     "execution_count": 11,
     "metadata": {},
     "output_type": "execute_result"
    }
   ],
   "source": [
    "correlation['Y'].sort_values(ascending=False)"
   ]
  },
  {
   "cell_type": "code",
   "execution_count": 12,
   "metadata": {},
   "outputs": [],
   "source": [
    "data.drop(data[data['Donor_Age']>90].index,inplace=True)\n",
    "data.drop(data[data['Donor_Age']<16].index,inplace=True)"
   ]
  },
  {
   "cell_type": "code",
   "execution_count": 13,
   "metadata": {},
   "outputs": [
    {
     "data": {
      "text/html": [
       "<div>\n",
       "<style scoped>\n",
       "    .dataframe tbody tr th:only-of-type {\n",
       "        vertical-align: middle;\n",
       "    }\n",
       "\n",
       "    .dataframe tbody tr th {\n",
       "        vertical-align: top;\n",
       "    }\n",
       "\n",
       "    .dataframe thead th {\n",
       "        text-align: right;\n",
       "    }\n",
       "</style>\n",
       "<table border=\"1\" class=\"dataframe\">\n",
       "  <thead>\n",
       "    <tr style=\"text-align: right;\">\n",
       "      <th></th>\n",
       "      <th>Row_ID</th>\n",
       "      <th>Financial_Year</th>\n",
       "      <th>Sequence_1</th>\n",
       "      <th>Sequence_2</th>\n",
       "      <th>Donor_Age</th>\n",
       "      <th>Blood_Group_Code</th>\n",
       "      <th>Donor_Weight</th>\n",
       "      <th>Donor_Temperature</th>\n",
       "      <th>Donor_Pulse</th>\n",
       "      <th>Donor_Hemoglobin</th>\n",
       "      <th>Test_1</th>\n",
       "      <th>Test_2</th>\n",
       "      <th>Y</th>\n",
       "    </tr>\n",
       "  </thead>\n",
       "  <tbody>\n",
       "    <tr>\n",
       "      <th>count</th>\n",
       "      <td>163922.000000</td>\n",
       "      <td>163922.000000</td>\n",
       "      <td>163922.000000</td>\n",
       "      <td>163922.000000</td>\n",
       "      <td>151876.000000</td>\n",
       "      <td>163566.000000</td>\n",
       "      <td>139688.000000</td>\n",
       "      <td>139685.000000</td>\n",
       "      <td>139685.000000</td>\n",
       "      <td>139685.000000</td>\n",
       "      <td>163865.000000</td>\n",
       "      <td>163898.000000</td>\n",
       "      <td>163922.000000</td>\n",
       "    </tr>\n",
       "    <tr>\n",
       "      <th>mean</th>\n",
       "      <td>109748.983889</td>\n",
       "      <td>15.872946</td>\n",
       "      <td>34463.271837</td>\n",
       "      <td>17682.243744</td>\n",
       "      <td>28.634156</td>\n",
       "      <td>3.598413</td>\n",
       "      <td>73.723405</td>\n",
       "      <td>38.047863</td>\n",
       "      <td>74.586082</td>\n",
       "      <td>13.332376</td>\n",
       "      <td>0.257231</td>\n",
       "      <td>7.365351</td>\n",
       "      <td>0.017356</td>\n",
       "    </tr>\n",
       "    <tr>\n",
       "      <th>std</th>\n",
       "      <td>63357.082681</td>\n",
       "      <td>1.417731</td>\n",
       "      <td>34157.941023</td>\n",
       "      <td>11652.821992</td>\n",
       "      <td>6.844706</td>\n",
       "      <td>1.872974</td>\n",
       "      <td>24.365762</td>\n",
       "      <td>19.861311</td>\n",
       "      <td>36.547642</td>\n",
       "      <td>7.721391</td>\n",
       "      <td>4.803828</td>\n",
       "      <td>159.920113</td>\n",
       "      <td>0.130594</td>\n",
       "    </tr>\n",
       "    <tr>\n",
       "      <th>min</th>\n",
       "      <td>0.000000</td>\n",
       "      <td>14.000000</td>\n",
       "      <td>346.000000</td>\n",
       "      <td>1.000000</td>\n",
       "      <td>16.000000</td>\n",
       "      <td>0.000000</td>\n",
       "      <td>-80.000000</td>\n",
       "      <td>0.300000</td>\n",
       "      <td>0.720000</td>\n",
       "      <td>0.130000</td>\n",
       "      <td>0.000000</td>\n",
       "      <td>0.001000</td>\n",
       "      <td>0.000000</td>\n",
       "    </tr>\n",
       "    <tr>\n",
       "      <th>25%</th>\n",
       "      <td>54916.250000</td>\n",
       "      <td>15.000000</td>\n",
       "      <td>11297.000000</td>\n",
       "      <td>7537.000000</td>\n",
       "      <td>23.477500</td>\n",
       "      <td>3.000000</td>\n",
       "      <td>65.000000</td>\n",
       "      <td>37.000000</td>\n",
       "      <td>72.000000</td>\n",
       "      <td>13.000000</td>\n",
       "      <td>0.123000</td>\n",
       "      <td>0.183000</td>\n",
       "      <td>0.000000</td>\n",
       "    </tr>\n",
       "    <tr>\n",
       "      <th>50%</th>\n",
       "      <td>109733.500000</td>\n",
       "      <td>16.000000</td>\n",
       "      <td>22538.000000</td>\n",
       "      <td>16334.500000</td>\n",
       "      <td>28.000000</td>\n",
       "      <td>3.000000</td>\n",
       "      <td>72.000000</td>\n",
       "      <td>37.000000</td>\n",
       "      <td>72.000000</td>\n",
       "      <td>13.000000</td>\n",
       "      <td>0.183000</td>\n",
       "      <td>0.221000</td>\n",
       "      <td>0.000000</td>\n",
       "    </tr>\n",
       "    <tr>\n",
       "      <th>75%</th>\n",
       "      <td>164591.500000</td>\n",
       "      <td>17.000000</td>\n",
       "      <td>35576.750000</td>\n",
       "      <td>27411.000000</td>\n",
       "      <td>33.000000</td>\n",
       "      <td>5.000000</td>\n",
       "      <td>80.000000</td>\n",
       "      <td>37.000000</td>\n",
       "      <td>72.000000</td>\n",
       "      <td>13.000000</td>\n",
       "      <td>0.294000</td>\n",
       "      <td>0.263000</td>\n",
       "      <td>0.000000</td>\n",
       "    </tr>\n",
       "    <tr>\n",
       "      <th>max</th>\n",
       "      <td>219465.000000</td>\n",
       "      <td>18.000000</td>\n",
       "      <td>122095.000000</td>\n",
       "      <td>44317.000000</td>\n",
       "      <td>90.000000</td>\n",
       "      <td>17.000000</td>\n",
       "      <td>980.000000</td>\n",
       "      <td>999.000000</td>\n",
       "      <td>872.000000</td>\n",
       "      <td>712.000000</td>\n",
       "      <td>976.302000</td>\n",
       "      <td>7081.233000</td>\n",
       "      <td>1.000000</td>\n",
       "    </tr>\n",
       "  </tbody>\n",
       "</table>\n",
       "</div>"
      ],
      "text/plain": [
       "              Row_ID  Financial_Year     Sequence_1     Sequence_2  \\\n",
       "count  163922.000000   163922.000000  163922.000000  163922.000000   \n",
       "mean   109748.983889       15.872946   34463.271837   17682.243744   \n",
       "std     63357.082681        1.417731   34157.941023   11652.821992   \n",
       "min         0.000000       14.000000     346.000000       1.000000   \n",
       "25%     54916.250000       15.000000   11297.000000    7537.000000   \n",
       "50%    109733.500000       16.000000   22538.000000   16334.500000   \n",
       "75%    164591.500000       17.000000   35576.750000   27411.000000   \n",
       "max    219465.000000       18.000000  122095.000000   44317.000000   \n",
       "\n",
       "           Donor_Age  Blood_Group_Code   Donor_Weight  Donor_Temperature  \\\n",
       "count  151876.000000     163566.000000  139688.000000      139685.000000   \n",
       "mean       28.634156          3.598413      73.723405          38.047863   \n",
       "std         6.844706          1.872974      24.365762          19.861311   \n",
       "min        16.000000          0.000000     -80.000000           0.300000   \n",
       "25%        23.477500          3.000000      65.000000          37.000000   \n",
       "50%        28.000000          3.000000      72.000000          37.000000   \n",
       "75%        33.000000          5.000000      80.000000          37.000000   \n",
       "max        90.000000         17.000000     980.000000         999.000000   \n",
       "\n",
       "         Donor_Pulse  Donor_Hemoglobin         Test_1         Test_2  \\\n",
       "count  139685.000000     139685.000000  163865.000000  163898.000000   \n",
       "mean       74.586082         13.332376       0.257231       7.365351   \n",
       "std        36.547642          7.721391       4.803828     159.920113   \n",
       "min         0.720000          0.130000       0.000000       0.001000   \n",
       "25%        72.000000         13.000000       0.123000       0.183000   \n",
       "50%        72.000000         13.000000       0.183000       0.221000   \n",
       "75%        72.000000         13.000000       0.294000       0.263000   \n",
       "max       872.000000        712.000000     976.302000    7081.233000   \n",
       "\n",
       "                   Y  \n",
       "count  163922.000000  \n",
       "mean        0.017356  \n",
       "std         0.130594  \n",
       "min         0.000000  \n",
       "25%         0.000000  \n",
       "50%         0.000000  \n",
       "75%         0.000000  \n",
       "max         1.000000  "
      ]
     },
     "execution_count": 13,
     "metadata": {},
     "output_type": "execute_result"
    }
   ],
   "source": [
    "#data[data['Donor_Age'] > 90].count()\n",
    "#data[data['Donor_Age']<16].count()\n",
    "data.describe()"
   ]
  },
  {
   "cell_type": "code",
   "execution_count": 14,
   "metadata": {},
   "outputs": [
    {
     "data": {
      "text/plain": [
       "Row_ID                      0\n",
       "Financial_Year              0\n",
       "Branch_Code                 0\n",
       "Sequence_1                  0\n",
       "Sequence_2                  0\n",
       "Donation_type               0\n",
       "Donor_Age               12046\n",
       "Donation_Date               0\n",
       "Gender                      8\n",
       "Blood_Group_Code          356\n",
       "Donor_Weight            24234\n",
       "Donor_Temperature       24237\n",
       "Donor_Pulse             24237\n",
       "Donor_Hemoglobin        24237\n",
       "Donor_Blood_Pressure    24238\n",
       "Test_1                     57\n",
       "Test_2                     24\n",
       "Test_3                      8\n",
       "Test_4                      8\n",
       "Y                           0\n",
       "dtype: int64"
      ]
     },
     "execution_count": 14,
     "metadata": {},
     "output_type": "execute_result"
    }
   ],
   "source": [
    "data.isna().sum()"
   ]
  },
  {
   "cell_type": "code",
   "execution_count": 15,
   "metadata": {},
   "outputs": [],
   "source": [
    "age = data[data['Donor_Age'] != np.nan]['Donor_Age']\n",
    "data['Donor_Age'].replace(np.nan,age.median(),inplace=True)"
   ]
  },
  {
   "cell_type": "code",
   "execution_count": 16,
   "metadata": {},
   "outputs": [
    {
     "data": {
      "text/plain": [
       "0"
      ]
     },
     "execution_count": 16,
     "metadata": {},
     "output_type": "execute_result"
    }
   ],
   "source": [
    "data['Donor_Age'].isna().sum()"
   ]
  },
  {
   "cell_type": "code",
   "execution_count": 17,
   "metadata": {},
   "outputs": [],
   "source": [
    "X = data[['Donor_Age','Sequence_2']]\n",
    "y = data['Y']"
   ]
  },
  {
   "cell_type": "code",
   "execution_count": 18,
   "metadata": {},
   "outputs": [],
   "source": [
    "X_train, X_test, y_train, y_test = train_test_split(X, y, test_size=0.2, random_state=0)  \n"
   ]
  },
  {
   "cell_type": "code",
   "execution_count": 19,
   "metadata": {},
   "outputs": [
    {
     "name": "stderr",
     "output_type": "stream",
     "text": [
      "C:\\Users\\Razor\\Anaconda3\\lib\\site-packages\\sklearn\\preprocessing\\data.py:625: DataConversionWarning: Data with input dtype int64, float64 were all converted to float64 by StandardScaler.\n",
      "  return self.partial_fit(X, y)\n",
      "C:\\Users\\Razor\\Anaconda3\\lib\\site-packages\\sklearn\\base.py:462: DataConversionWarning: Data with input dtype int64, float64 were all converted to float64 by StandardScaler.\n",
      "  return self.fit(X, **fit_params).transform(X)\n",
      "C:\\Users\\Razor\\Anaconda3\\lib\\site-packages\\ipykernel_launcher.py:3: DataConversionWarning: Data with input dtype int64, float64 were all converted to float64 by StandardScaler.\n",
      "  This is separate from the ipykernel package so we can avoid doing imports until\n"
     ]
    }
   ],
   "source": [
    "sc = StandardScaler()\n",
    "X_train = sc.fit_transform(X_train)\n",
    "X_test = sc.transform(X_test)"
   ]
  },
  {
   "cell_type": "code",
   "execution_count": 20,
   "metadata": {},
   "outputs": [
    {
     "data": {
      "text/plain": [
       "RandomForestClassifier(bootstrap=True, class_weight=None, criterion='gini',\n",
       "            max_depth=None, max_features='auto', max_leaf_nodes=None,\n",
       "            min_impurity_decrease=0.0, min_impurity_split=None,\n",
       "            min_samples_leaf=1, min_samples_split=2,\n",
       "            min_weight_fraction_leaf=0.0, n_estimators=20, n_jobs=None,\n",
       "            oob_score=False, random_state=0, verbose=0, warm_start=False)"
      ]
     },
     "execution_count": 20,
     "metadata": {},
     "output_type": "execute_result"
    }
   ],
   "source": [
    "\n",
    "regressor = RandomForestClassifier(n_estimators=20,random_state=0)\n",
    "regressor.fit(X_train,y_train)"
   ]
  },
  {
   "cell_type": "code",
   "execution_count": 21,
   "metadata": {},
   "outputs": [],
   "source": [
    "y_pred = regressor.predict(X_test)\n",
    "#y_pred = regressor.predict()"
   ]
  },
  {
   "cell_type": "code",
   "execution_count": 22,
   "metadata": {},
   "outputs": [
    {
     "name": "stdout",
     "output_type": "stream",
     "text": [
      "Mean Absolute Error: 0.028610645112093946\n",
      "Mean Squared Error: 0.028610645112093946\n",
      "Root Mean Squared Error: 0.16914681525850242\n"
     ]
    }
   ],
   "source": [
    "print('Mean Absolute Error:', metrics.mean_absolute_error(y_test, y_pred))  \n",
    "print('Mean Squared Error:', metrics.mean_squared_error(y_test, y_pred))  \n",
    "print('Root Mean Squared Error:', np.sqrt(metrics.mean_squared_error(y_test, y_pred)))  "
   ]
  },
  {
   "cell_type": "code",
   "execution_count": 23,
   "metadata": {},
   "outputs": [],
   "source": [
    "data_test = pd.read_csv('test_data.csv')\n",
    "\n"
   ]
  },
  {
   "cell_type": "code",
   "execution_count": 24,
   "metadata": {},
   "outputs": [
    {
     "data": {
      "text/plain": [
       "0"
      ]
     },
     "execution_count": 24,
     "metadata": {},
     "output_type": "execute_result"
    }
   ],
   "source": [
    "data_test['Row_ID'].isna().sum()"
   ]
  },
  {
   "cell_type": "code",
   "execution_count": 25,
   "metadata": {},
   "outputs": [],
   "source": [
    "data_test['Donor_Age'].replace(np.nan,age.median(),inplace=True)\n",
    "#data_test['Donor_Age'].replace(data_test[data_test['Donor_Age'] > 90],age.median(),inplace=True)"
   ]
  },
  {
   "cell_type": "code",
   "execution_count": 26,
   "metadata": {},
   "outputs": [
    {
     "name": "stderr",
     "output_type": "stream",
     "text": [
      "C:\\Users\\Razor\\Anaconda3\\lib\\site-packages\\ipykernel_launcher.py:1: SettingWithCopyWarning: \n",
      "A value is trying to be set on a copy of a slice from a DataFrame.\n",
      "Try using .loc[row_indexer,col_indexer] = value instead\n",
      "\n",
      "See the caveats in the documentation: http://pandas.pydata.org/pandas-docs/stable/indexing.html#indexing-view-versus-copy\n",
      "  \"\"\"Entry point for launching an IPython kernel.\n"
     ]
    }
   ],
   "source": [
    "data_test[data_test['Donor_Age'] > 90]['Donor_Age'] = np.nan"
   ]
  },
  {
   "cell_type": "code",
   "execution_count": 27,
   "metadata": {},
   "outputs": [
    {
     "name": "stderr",
     "output_type": "stream",
     "text": [
      "C:\\Users\\Razor\\Anaconda3\\lib\\site-packages\\ipykernel_launcher.py:1: SettingWithCopyWarning: \n",
      "A value is trying to be set on a copy of a slice from a DataFrame.\n",
      "Try using .loc[row_indexer,col_indexer] = value instead\n",
      "\n",
      "See the caveats in the documentation: http://pandas.pydata.org/pandas-docs/stable/indexing.html#indexing-view-versus-copy\n",
      "  \"\"\"Entry point for launching an IPython kernel.\n"
     ]
    }
   ],
   "source": [
    "data_test[data_test['Donor_Age'] < 16]['Donor_Age'] = np.nan"
   ]
  },
  {
   "cell_type": "code",
   "execution_count": 28,
   "metadata": {},
   "outputs": [],
   "source": [
    "sequence = data[data['Sequence_2'] != np.nan]['Sequence_2']\n",
    "data_test['Sequence_2'].replace(np.nan,sequence.median(),inplace=True)\n"
   ]
  },
  {
   "cell_type": "code",
   "execution_count": 29,
   "metadata": {},
   "outputs": [
    {
     "data": {
      "text/plain": [
       "0"
      ]
     },
     "execution_count": 29,
     "metadata": {},
     "output_type": "execute_result"
    }
   ],
   "source": [
    "data_test['Sequence_2'].isna().sum()"
   ]
  },
  {
   "cell_type": "code",
   "execution_count": null,
   "metadata": {},
   "outputs": [],
   "source": []
  },
  {
   "cell_type": "code",
   "execution_count": 30,
   "metadata": {},
   "outputs": [],
   "source": [
    "y_pred = regressor.predict(data_test[['Sequence_2','Donor_Age']])"
   ]
  },
  {
   "cell_type": "code",
   "execution_count": 31,
   "metadata": {},
   "outputs": [],
   "source": [
    "submission = pd.DataFrame({'Row_ID':data_test['Row_ID'],'Y':y_pred})"
   ]
  },
  {
   "cell_type": "code",
   "execution_count": 32,
   "metadata": {},
   "outputs": [
    {
     "data": {
      "text/plain": [
       "Row_ID    54867\n",
       "Y         54867\n",
       "dtype: int64"
      ]
     },
     "execution_count": 32,
     "metadata": {},
     "output_type": "execute_result"
    }
   ],
   "source": [
    "submission[submission['Y']==0].count()"
   ]
  },
  {
   "cell_type": "code",
   "execution_count": 34,
   "metadata": {},
   "outputs": [
    {
     "name": "stdout",
     "output_type": "stream",
     "text": [
      "Saved file: Submission.csv\n"
     ]
    }
   ],
   "source": [
    "filename = 'Submission.csv'\n",
    "\n",
    "submission.to_csv(filename,index=False)\n",
    "\n",
    "print('Saved file: ' + filename)"
   ]
  },
  {
   "cell_type": "code",
   "execution_count": 35,
   "metadata": {},
   "outputs": [],
   "source": [
    "samplefile = pd.read_csv('sample.csv')"
   ]
  },
  {
   "cell_type": "code",
   "execution_count": 37,
   "metadata": {},
   "outputs": [
    {
     "data": {
      "text/plain": [
       "Row_ID    0\n",
       "Y         0\n",
       "dtype: int64"
      ]
     },
     "execution_count": 37,
     "metadata": {},
     "output_type": "execute_result"
    }
   ],
   "source": [
    "submission.isna().sum()"
   ]
  },
  {
   "cell_type": "code",
   "execution_count": null,
   "metadata": {},
   "outputs": [],
   "source": [
    "samplefile.head()"
   ]
  },
  {
   "cell_type": "code",
   "execution_count": null,
   "metadata": {},
   "outputs": [],
   "source": []
  }
 ],
 "metadata": {
  "kernelspec": {
   "display_name": "Python 3",
   "language": "python",
   "name": "python3"
  },
  "language_info": {
   "codemirror_mode": {
    "name": "ipython",
    "version": 3
   },
   "file_extension": ".py",
   "mimetype": "text/x-python",
   "name": "python",
   "nbconvert_exporter": "python",
   "pygments_lexer": "ipython3",
   "version": "3.7.1"
  }
 },
 "nbformat": 4,
 "nbformat_minor": 2
}
